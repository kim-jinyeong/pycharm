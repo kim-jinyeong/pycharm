{
 "nbformat": 4,
 "nbformat_minor": 0,
 "metadata": {
  "colab": {
   "name": "2.1 variable_print_library.ipynb",
   "provenance": [],
   "collapsed_sections": [],
   "authorship_tag": "ABX9TyOKkL9J8xJ2n952xubuoFZx"
  },
  "kernelspec": {
   "name": "python3",
   "display_name": "Python 3"
  },
  "language_info": {
   "name": "python"
  }
 },
 "cells": [
  {
   "cell_type": "markdown",
   "metadata": {
    "id": "TC16lz7V-oAG",
    "pycharm": {
     "name": "#%% md\n"
    }
   },
   "source": [
    "# 2강 파이썬\n",
    "## 2.1 변수, 출력문, 라이브러리"
   ]
  },
  {
   "cell_type": "markdown",
   "metadata": {
    "id": "TwZBkUw4_JXN",
    "pycharm": {
     "name": "#%% md\n"
    }
   },
   "source": [
    "### 2.1.1 정수형"
   ]
  },
  {
   "cell_type": "code",
   "metadata": {
    "colab": {
     "base_uri": "https://localhost:8080/"
    },
    "id": "gn_jlmXB-ihk",
    "executionInfo": {
     "status": "ok",
     "timestamp": 1618430627417,
     "user_tz": -120,
     "elapsed": 1283,
     "user": {
      "displayName": "Yongho Kim",
      "photoUrl": "https://lh3.googleusercontent.com/a-/AOh14Gi2wNzosHEMwoF2HzqTpyOJ8UgyBgGlsgUdQkMb=s64",
      "userId": "03955262880093103775"
     }
    },
    "outputId": "7c14d4fd-8915-442b-c6a0-028ca61d1125",
    "pycharm": {
     "name": "#%%\n"
    }
   },
   "source": [
    "x = 1\n",
    "type(x)"
   ],
   "execution_count": 1,
   "outputs": [
    {
     "data": {
      "text/plain": "int"
     },
     "execution_count": 1,
     "metadata": {},
     "output_type": "execute_result"
    }
   ]
  },
  {
   "cell_type": "markdown",
   "metadata": {
    "id": "3xPKikJt_OnV",
    "pycharm": {
     "name": "#%% md\n"
    }
   },
   "source": [
    "### 2.1.2 실수형"
   ]
  },
  {
   "cell_type": "code",
   "metadata": {
    "colab": {
     "base_uri": "https://localhost:8080/"
    },
    "id": "T9Rlfzlr-2q7",
    "executionInfo": {
     "status": "ok",
     "timestamp": 1618430630793,
     "user_tz": -120,
     "elapsed": 1452,
     "user": {
      "displayName": "Yongho Kim",
      "photoUrl": "https://lh3.googleusercontent.com/a-/AOh14Gi2wNzosHEMwoF2HzqTpyOJ8UgyBgGlsgUdQkMb=s64",
      "userId": "03955262880093103775"
     }
    },
    "outputId": "ba1dc1a0-dd32-44e3-ae6d-27af763fe791",
    "pycharm": {
     "name": "#%%\n"
    }
   },
   "source": [
    "x = 1.5\n",
    "type(x)"
   ],
   "execution_count": 2,
   "outputs": [
    {
     "data": {
      "text/plain": "float"
     },
     "execution_count": 2,
     "metadata": {},
     "output_type": "execute_result"
    }
   ]
  },
  {
   "cell_type": "code",
   "metadata": {
    "colab": {
     "base_uri": "https://localhost:8080/"
    },
    "id": "9-Of09Jy-5WO",
    "executionInfo": {
     "status": "ok",
     "timestamp": 1618430638610,
     "user_tz": -120,
     "elapsed": 1003,
     "user": {
      "displayName": "Yongho Kim",
      "photoUrl": "https://lh3.googleusercontent.com/a-/AOh14Gi2wNzosHEMwoF2HzqTpyOJ8UgyBgGlsgUdQkMb=s64",
      "userId": "03955262880093103775"
     }
    },
    "outputId": "d4876f83-bfac-4391-aa21-7db54b98c202",
    "pycharm": {
     "name": "#%%\n"
    }
   },
   "source": [
    "x = .5\n",
    "y = 1.2\n",
    "z = 2.4\n",
    "y+z"
   ],
   "execution_count": 3,
   "outputs": [
    {
     "data": {
      "text/plain": "3.5999999999999996"
     },
     "execution_count": 3,
     "metadata": {},
     "output_type": "execute_result"
    }
   ]
  },
  {
   "cell_type": "code",
   "metadata": {
    "colab": {
     "base_uri": "https://localhost:8080/"
    },
    "id": "vhEWQj3p-7XU",
    "executionInfo": {
     "status": "ok",
     "timestamp": 1618430645377,
     "user_tz": -120,
     "elapsed": 844,
     "user": {
      "displayName": "Yongho Kim",
      "photoUrl": "https://lh3.googleusercontent.com/a-/AOh14Gi2wNzosHEMwoF2HzqTpyOJ8UgyBgGlsgUdQkMb=s64",
      "userId": "03955262880093103775"
     }
    },
    "outputId": "a3e4fd37-7197-42fa-cf75-917934af437e",
    "pycharm": {
     "name": "#%%\n"
    }
   },
   "source": [
    "x = 1.\n",
    "y = 1\n",
    "type(x+y)"
   ],
   "execution_count": 4,
   "outputs": [
    {
     "data": {
      "text/plain": "float"
     },
     "execution_count": 4,
     "metadata": {},
     "output_type": "execute_result"
    }
   ]
  },
  {
   "cell_type": "code",
   "metadata": {
    "id": "MWjjuTSe-9Dq",
    "pycharm": {
     "name": "#%%\n"
    }
   },
   "source": [
    "# 숫자 연산\n",
    "x = 2\n",
    "y = 3"
   ],
   "execution_count": 5,
   "outputs": []
  },
  {
   "cell_type": "code",
   "metadata": {
    "colab": {
     "base_uri": "https://localhost:8080/"
    },
    "id": "tIFkcR4V_Zjy",
    "executionInfo": {
     "status": "ok",
     "timestamp": 1618430767930,
     "user_tz": -120,
     "elapsed": 459,
     "user": {
      "displayName": "Yongho Kim",
      "photoUrl": "https://lh3.googleusercontent.com/a-/AOh14Gi2wNzosHEMwoF2HzqTpyOJ8UgyBgGlsgUdQkMb=s64",
      "userId": "03955262880093103775"
     }
    },
    "outputId": "9d2ccc1a-b21c-488c-a8e3-54c797542ad1",
    "pycharm": {
     "name": "#%%\n"
    }
   },
   "source": [
    "x+y # 덧셈"
   ],
   "execution_count": 6,
   "outputs": [
    {
     "data": {
      "text/plain": "5"
     },
     "execution_count": 6,
     "metadata": {},
     "output_type": "execute_result"
    }
   ]
  },
  {
   "cell_type": "code",
   "metadata": {
    "colab": {
     "base_uri": "https://localhost:8080/"
    },
    "id": "Q7-C1ai__bEy",
    "executionInfo": {
     "status": "ok",
     "timestamp": 1618430772243,
     "user_tz": -120,
     "elapsed": 437,
     "user": {
      "displayName": "Yongho Kim",
      "photoUrl": "https://lh3.googleusercontent.com/a-/AOh14Gi2wNzosHEMwoF2HzqTpyOJ8UgyBgGlsgUdQkMb=s64",
      "userId": "03955262880093103775"
     }
    },
    "outputId": "165be697-86d1-42ed-e129-7e4bffc31ea3",
    "pycharm": {
     "name": "#%%\n"
    }
   },
   "source": [
    "y-x # 뺄셈"
   ],
   "execution_count": 7,
   "outputs": [
    {
     "data": {
      "text/plain": "1"
     },
     "execution_count": 7,
     "metadata": {},
     "output_type": "execute_result"
    }
   ]
  },
  {
   "cell_type": "code",
   "metadata": {
    "colab": {
     "base_uri": "https://localhost:8080/"
    },
    "id": "Ye5Hjevg_cIg",
    "executionInfo": {
     "status": "ok",
     "timestamp": 1618430776912,
     "user_tz": -120,
     "elapsed": 456,
     "user": {
      "displayName": "Yongho Kim",
      "photoUrl": "https://lh3.googleusercontent.com/a-/AOh14Gi2wNzosHEMwoF2HzqTpyOJ8UgyBgGlsgUdQkMb=s64",
      "userId": "03955262880093103775"
     }
    },
    "outputId": "74fe138c-c733-4edf-dbae-92b878d06ea6",
    "pycharm": {
     "name": "#%%\n"
    }
   },
   "source": [
    "x*y # 곱셈"
   ],
   "execution_count": 8,
   "outputs": [
    {
     "data": {
      "text/plain": "6"
     },
     "execution_count": 8,
     "metadata": {},
     "output_type": "execute_result"
    }
   ]
  },
  {
   "cell_type": "code",
   "metadata": {
    "colab": {
     "base_uri": "https://localhost:8080/"
    },
    "id": "Z7gBNItv_dRM",
    "executionInfo": {
     "status": "ok",
     "timestamp": 1618430800857,
     "user_tz": -120,
     "elapsed": 562,
     "user": {
      "displayName": "Yongho Kim",
      "photoUrl": "https://lh3.googleusercontent.com/a-/AOh14Gi2wNzosHEMwoF2HzqTpyOJ8UgyBgGlsgUdQkMb=s64",
      "userId": "03955262880093103775"
     }
    },
    "outputId": "145f3728-6c27-4554-9393-67d0d3dba370",
    "pycharm": {
     "name": "#%%\n"
    }
   },
   "source": [
    "x**y # 제곱"
   ],
   "execution_count": 9,
   "outputs": [
    {
     "data": {
      "text/plain": "8"
     },
     "execution_count": 9,
     "metadata": {},
     "output_type": "execute_result"
    }
   ]
  },
  {
   "cell_type": "code",
   "metadata": {
    "colab": {
     "base_uri": "https://localhost:8080/"
    },
    "id": "qf6IqZDX_jFo",
    "executionInfo": {
     "status": "ok",
     "timestamp": 1618430809251,
     "user_tz": -120,
     "elapsed": 438,
     "user": {
      "displayName": "Yongho Kim",
      "photoUrl": "https://lh3.googleusercontent.com/a-/AOh14Gi2wNzosHEMwoF2HzqTpyOJ8UgyBgGlsgUdQkMb=s64",
      "userId": "03955262880093103775"
     }
    },
    "outputId": "325c0fc8-12b2-4d88-e575-0ad3f7b892bd",
    "pycharm": {
     "name": "#%%\n"
    }
   },
   "source": [
    "x/y # 나눗셈"
   ],
   "execution_count": 10,
   "outputs": [
    {
     "data": {
      "text/plain": "0.6666666666666666"
     },
     "execution_count": 10,
     "metadata": {},
     "output_type": "execute_result"
    }
   ]
  },
  {
   "cell_type": "code",
   "metadata": {
    "colab": {
     "base_uri": "https://localhost:8080/"
    },
    "id": "I3ss4FBH_lKj",
    "executionInfo": {
     "status": "ok",
     "timestamp": 1618430845947,
     "user_tz": -120,
     "elapsed": 591,
     "user": {
      "displayName": "Yongho Kim",
      "photoUrl": "https://lh3.googleusercontent.com/a-/AOh14Gi2wNzosHEMwoF2HzqTpyOJ8UgyBgGlsgUdQkMb=s64",
      "userId": "03955262880093103775"
     }
    },
    "outputId": "5f0f7f06-eabc-4219-a5c5-31d4ee44e3f1",
    "pycharm": {
     "name": "#%%\n"
    }
   },
   "source": [
    "y//x # 몫"
   ],
   "execution_count": 11,
   "outputs": [
    {
     "data": {
      "text/plain": "1"
     },
     "execution_count": 11,
     "metadata": {},
     "output_type": "execute_result"
    }
   ]
  },
  {
   "cell_type": "code",
   "metadata": {
    "colab": {
     "base_uri": "https://localhost:8080/"
    },
    "id": "n8L5j8tW_uFs",
    "executionInfo": {
     "status": "ok",
     "timestamp": 1618430847461,
     "user_tz": -120,
     "elapsed": 474,
     "user": {
      "displayName": "Yongho Kim",
      "photoUrl": "https://lh3.googleusercontent.com/a-/AOh14Gi2wNzosHEMwoF2HzqTpyOJ8UgyBgGlsgUdQkMb=s64",
      "userId": "03955262880093103775"
     }
    },
    "outputId": "53c7b536-0bef-4f2d-ab10-b7d5e4e248fc",
    "pycharm": {
     "name": "#%%\n"
    }
   },
   "source": [
    "y%x # 나머지"
   ],
   "execution_count": 12,
   "outputs": [
    {
     "data": {
      "text/plain": "1"
     },
     "execution_count": 12,
     "metadata": {},
     "output_type": "execute_result"
    }
   ]
  },
  {
   "cell_type": "code",
   "metadata": {
    "colab": {
     "base_uri": "https://localhost:8080/"
    },
    "id": "-NFh9yWf_ufP",
    "executionInfo": {
     "status": "ok",
     "timestamp": 1618430923717,
     "user_tz": -120,
     "elapsed": 790,
     "user": {
      "displayName": "Yongho Kim",
      "photoUrl": "https://lh3.googleusercontent.com/a-/AOh14Gi2wNzosHEMwoF2HzqTpyOJ8UgyBgGlsgUdQkMb=s64",
      "userId": "03955262880093103775"
     }
    },
    "outputId": "940e7480-3625-4985-c788-32ebf7fdf23f",
    "pycharm": {
     "name": "#%%\n"
    }
   },
   "source": [
    "# 연산의 우선 순위\n",
    "2-4*3"
   ],
   "execution_count": 13,
   "outputs": [
    {
     "data": {
      "text/plain": "-10"
     },
     "execution_count": 13,
     "metadata": {},
     "output_type": "execute_result"
    }
   ]
  },
  {
   "cell_type": "code",
   "metadata": {
    "colab": {
     "base_uri": "https://localhost:8080/"
    },
    "id": "2IZBIhV9__OX",
    "executionInfo": {
     "status": "ok",
     "timestamp": 1618430929012,
     "user_tz": -120,
     "elapsed": 445,
     "user": {
      "displayName": "Yongho Kim",
      "photoUrl": "https://lh3.googleusercontent.com/a-/AOh14Gi2wNzosHEMwoF2HzqTpyOJ8UgyBgGlsgUdQkMb=s64",
      "userId": "03955262880093103775"
     }
    },
    "outputId": "f5650a97-516c-4252-b540-4700b189530c",
    "pycharm": {
     "name": "#%%\n"
    }
   },
   "source": [
    "(2-4)*3"
   ],
   "execution_count": 14,
   "outputs": [
    {
     "data": {
      "text/plain": "-6"
     },
     "execution_count": 14,
     "metadata": {},
     "output_type": "execute_result"
    }
   ]
  },
  {
   "cell_type": "markdown",
   "metadata": {
    "id": "of_mlTpnAEJW",
    "pycharm": {
     "name": "#%% md\n"
    }
   },
   "source": [
    "### 2.1.3 문자형"
   ]
  },
  {
   "cell_type": "code",
   "metadata": {
    "colab": {
     "base_uri": "https://localhost:8080/"
    },
    "id": "LdgrWTp8ACZx",
    "executionInfo": {
     "status": "ok",
     "timestamp": 1618430954284,
     "user_tz": -120,
     "elapsed": 535,
     "user": {
      "displayName": "Yongho Kim",
      "photoUrl": "https://lh3.googleusercontent.com/a-/AOh14Gi2wNzosHEMwoF2HzqTpyOJ8UgyBgGlsgUdQkMb=s64",
      "userId": "03955262880093103775"
     }
    },
    "outputId": "286bfa94-44f9-490d-90a0-308b5cd21b65",
    "pycharm": {
     "name": "#%%\n"
    }
   },
   "source": [
    "x = 'hello'\n",
    "y = '1'\n",
    "type(x)"
   ],
   "execution_count": 15,
   "outputs": [
    {
     "data": {
      "text/plain": "str"
     },
     "execution_count": 15,
     "metadata": {},
     "output_type": "execute_result"
    }
   ]
  },
  {
   "cell_type": "code",
   "metadata": {
    "colab": {
     "base_uri": "https://localhost:8080/"
    },
    "id": "CJqKHKorAIjS",
    "executionInfo": {
     "status": "ok",
     "timestamp": 1618430962217,
     "user_tz": -120,
     "elapsed": 467,
     "user": {
      "displayName": "Yongho Kim",
      "photoUrl": "https://lh3.googleusercontent.com/a-/AOh14Gi2wNzosHEMwoF2HzqTpyOJ8UgyBgGlsgUdQkMb=s64",
      "userId": "03955262880093103775"
     }
    },
    "outputId": "5d1c81c8-ead4-41fa-eee2-da15bc0a841f",
    "pycharm": {
     "name": "#%%\n"
    }
   },
   "source": [
    "z = int(y) # 정수형으로 변환\n",
    "type(z)"
   ],
   "execution_count": 16,
   "outputs": [
    {
     "data": {
      "text/plain": "int"
     },
     "execution_count": 16,
     "metadata": {},
     "output_type": "execute_result"
    }
   ]
  },
  {
   "cell_type": "code",
   "metadata": {
    "id": "OTnpMPCQAKgX",
    "pycharm": {
     "name": "#%%\n"
    }
   },
   "source": [
    "x = 1\n",
    "y = '2'"
   ],
   "execution_count": 17,
   "outputs": []
  },
  {
   "cell_type": "code",
   "metadata": {
    "colab": {
     "base_uri": "https://localhost:8080/"
    },
    "id": "y9FlLy3-AW9J",
    "executionInfo": {
     "status": "ok",
     "timestamp": 1618431017907,
     "user_tz": -120,
     "elapsed": 410,
     "user": {
      "displayName": "Yongho Kim",
      "photoUrl": "https://lh3.googleusercontent.com/a-/AOh14Gi2wNzosHEMwoF2HzqTpyOJ8UgyBgGlsgUdQkMb=s64",
      "userId": "03955262880093103775"
     }
    },
    "outputId": "be75bad5-11e8-435b-9d87-069b6ff3f972",
    "pycharm": {
     "name": "#%%\n"
    }
   },
   "source": [
    "x+int(y)"
   ],
   "execution_count": 18,
   "outputs": [
    {
     "data": {
      "text/plain": "3"
     },
     "execution_count": 18,
     "metadata": {},
     "output_type": "execute_result"
    }
   ]
  },
  {
   "cell_type": "code",
   "metadata": {
    "colab": {
     "base_uri": "https://localhost:8080/",
     "height": 37
    },
    "id": "chQhwPpXARoj",
    "executionInfo": {
     "status": "ok",
     "timestamp": 1618430997292,
     "user_tz": -120,
     "elapsed": 680,
     "user": {
      "displayName": "Yongho Kim",
      "photoUrl": "https://lh3.googleusercontent.com/a-/AOh14Gi2wNzosHEMwoF2HzqTpyOJ8UgyBgGlsgUdQkMb=s64",
      "userId": "03955262880093103775"
     }
    },
    "outputId": "b9ef9998-a3c4-4424-c1d2-d5364738d25a",
    "pycharm": {
     "name": "#%%\n"
    }
   },
   "source": [
    "str(x)+y"
   ],
   "execution_count": 19,
   "outputs": [
    {
     "data": {
      "text/plain": "'12'"
     },
     "execution_count": 19,
     "metadata": {},
     "output_type": "execute_result"
    }
   ]
  },
  {
   "cell_type": "code",
   "metadata": {
    "id": "DCqM35jkATA-",
    "pycharm": {
     "name": "#%%\n"
    }
   },
   "source": [
    "x1 = 'deep'\n",
    "x2 = 'deep ' # 공백 포함\n",
    "y = 'learning'"
   ],
   "execution_count": 20,
   "outputs": []
  },
  {
   "cell_type": "code",
   "metadata": {
    "colab": {
     "base_uri": "https://localhost:8080/",
     "height": 37
    },
    "id": "1fclT8m0AbYE",
    "executionInfo": {
     "status": "ok",
     "timestamp": 1618431038664,
     "user_tz": -120,
     "elapsed": 534,
     "user": {
      "displayName": "Yongho Kim",
      "photoUrl": "https://lh3.googleusercontent.com/a-/AOh14Gi2wNzosHEMwoF2HzqTpyOJ8UgyBgGlsgUdQkMb=s64",
      "userId": "03955262880093103775"
     }
    },
    "outputId": "259ad31c-cd73-4628-99ce-e68a69a39e98",
    "pycharm": {
     "name": "#%%\n"
    }
   },
   "source": [
    "x1+y"
   ],
   "execution_count": 21,
   "outputs": [
    {
     "data": {
      "text/plain": "'deeplearning'"
     },
     "execution_count": 21,
     "metadata": {},
     "output_type": "execute_result"
    }
   ]
  },
  {
   "cell_type": "code",
   "metadata": {
    "colab": {
     "base_uri": "https://localhost:8080/",
     "height": 37
    },
    "id": "Om5ESTfpAdJu",
    "executionInfo": {
     "status": "ok",
     "timestamp": 1618431043969,
     "user_tz": -120,
     "elapsed": 526,
     "user": {
      "displayName": "Yongho Kim",
      "photoUrl": "https://lh3.googleusercontent.com/a-/AOh14Gi2wNzosHEMwoF2HzqTpyOJ8UgyBgGlsgUdQkMb=s64",
      "userId": "03955262880093103775"
     }
    },
    "outputId": "b442bead-04dd-4681-bb6d-fff2f9269fe9",
    "pycharm": {
     "name": "#%%\n"
    }
   },
   "source": [
    "x2+y"
   ],
   "execution_count": 22,
   "outputs": [
    {
     "data": {
      "text/plain": "'deep learning'"
     },
     "execution_count": 22,
     "metadata": {},
     "output_type": "execute_result"
    }
   ]
  },
  {
   "cell_type": "code",
   "metadata": {
    "colab": {
     "base_uri": "https://localhost:8080/",
     "height": 37
    },
    "id": "nI6M1pypAece",
    "executionInfo": {
     "status": "ok",
     "timestamp": 1618431050048,
     "user_tz": -120,
     "elapsed": 550,
     "user": {
      "displayName": "Yongho Kim",
      "photoUrl": "https://lh3.googleusercontent.com/a-/AOh14Gi2wNzosHEMwoF2HzqTpyOJ8UgyBgGlsgUdQkMb=s64",
      "userId": "03955262880093103775"
     }
    },
    "outputId": "2c8eb5ab-e95d-46ce-e556-9360956c4a7b",
    "pycharm": {
     "name": "#%%\n"
    }
   },
   "source": [
    "3*y"
   ],
   "execution_count": 23,
   "outputs": [
    {
     "data": {
      "text/plain": "'learninglearninglearning'"
     },
     "execution_count": 23,
     "metadata": {},
     "output_type": "execute_result"
    }
   ]
  },
  {
   "cell_type": "code",
   "metadata": {
    "colab": {
     "base_uri": "https://localhost:8080/",
     "height": 37
    },
    "id": "Rbg70SzOAf7W",
    "executionInfo": {
     "status": "ok",
     "timestamp": 1618431070617,
     "user_tz": -120,
     "elapsed": 427,
     "user": {
      "displayName": "Yongho Kim",
      "photoUrl": "https://lh3.googleusercontent.com/a-/AOh14Gi2wNzosHEMwoF2HzqTpyOJ8UgyBgGlsgUdQkMb=s64",
      "userId": "03955262880093103775"
     }
    },
    "outputId": "44d11f4f-efba-424d-aec1-fcfa47d9d838",
    "pycharm": {
     "name": "#%%\n"
    }
   },
   "source": [
    "# 문자형 인덱싱\n",
    "y[1] "
   ],
   "execution_count": 24,
   "outputs": [
    {
     "data": {
      "text/plain": "'e'"
     },
     "execution_count": 24,
     "metadata": {},
     "output_type": "execute_result"
    }
   ]
  },
  {
   "cell_type": "code",
   "metadata": {
    "colab": {
     "base_uri": "https://localhost:8080/",
     "height": 37
    },
    "id": "FKTWxPFIAk-Q",
    "executionInfo": {
     "status": "ok",
     "timestamp": 1618431076545,
     "user_tz": -120,
     "elapsed": 453,
     "user": {
      "displayName": "Yongho Kim",
      "photoUrl": "https://lh3.googleusercontent.com/a-/AOh14Gi2wNzosHEMwoF2HzqTpyOJ8UgyBgGlsgUdQkMb=s64",
      "userId": "03955262880093103775"
     }
    },
    "outputId": "a9f098a9-bdad-48dc-97a2-08be32872ab0",
    "pycharm": {
     "name": "#%%\n"
    }
   },
   "source": [
    "y[-1]"
   ],
   "execution_count": 25,
   "outputs": [
    {
     "data": {
      "text/plain": "'g'"
     },
     "execution_count": 25,
     "metadata": {},
     "output_type": "execute_result"
    }
   ]
  },
  {
   "cell_type": "code",
   "metadata": {
    "colab": {
     "base_uri": "https://localhost:8080/",
     "height": 37
    },
    "id": "VThpn32CAmap",
    "executionInfo": {
     "status": "ok",
     "timestamp": 1618431081322,
     "user_tz": -120,
     "elapsed": 722,
     "user": {
      "displayName": "Yongho Kim",
      "photoUrl": "https://lh3.googleusercontent.com/a-/AOh14Gi2wNzosHEMwoF2HzqTpyOJ8UgyBgGlsgUdQkMb=s64",
      "userId": "03955262880093103775"
     }
    },
    "outputId": "12edcdb7-53bb-4664-bdcd-c7f0e214f24c",
    "pycharm": {
     "name": "#%%\n"
    }
   },
   "source": [
    "y[1:4]"
   ],
   "execution_count": 26,
   "outputs": [
    {
     "data": {
      "text/plain": "'ear'"
     },
     "execution_count": 26,
     "metadata": {},
     "output_type": "execute_result"
    }
   ]
  },
  {
   "cell_type": "markdown",
   "metadata": {
    "id": "dqo8VkIoArkb",
    "pycharm": {
     "name": "#%% md\n"
    }
   },
   "source": [
    "### 2.1.4 부울형"
   ]
  },
  {
   "cell_type": "code",
   "metadata": {
    "colab": {
     "base_uri": "https://localhost:8080/"
    },
    "id": "fx4z9FWAAnfZ",
    "executionInfo": {
     "status": "ok",
     "timestamp": 1618431112687,
     "user_tz": -120,
     "elapsed": 414,
     "user": {
      "displayName": "Yongho Kim",
      "photoUrl": "https://lh3.googleusercontent.com/a-/AOh14Gi2wNzosHEMwoF2HzqTpyOJ8UgyBgGlsgUdQkMb=s64",
      "userId": "03955262880093103775"
     }
    },
    "outputId": "09d69975-cb74-4b7c-d488-8eaa27760b88",
    "pycharm": {
     "name": "#%%\n"
    }
   },
   "source": [
    "x = True\n",
    "y = False\n",
    "type(x)"
   ],
   "execution_count": 27,
   "outputs": [
    {
     "data": {
      "text/plain": "bool"
     },
     "execution_count": 27,
     "metadata": {},
     "output_type": "execute_result"
    }
   ]
  },
  {
   "cell_type": "code",
   "metadata": {
    "colab": {
     "base_uri": "https://localhost:8080/"
    },
    "id": "fxy9HrfNAvPx",
    "executionInfo": {
     "status": "ok",
     "timestamp": 1618431120111,
     "user_tz": -120,
     "elapsed": 564,
     "user": {
      "displayName": "Yongho Kim",
      "photoUrl": "https://lh3.googleusercontent.com/a-/AOh14Gi2wNzosHEMwoF2HzqTpyOJ8UgyBgGlsgUdQkMb=s64",
      "userId": "03955262880093103775"
     }
    },
    "outputId": "921ae0bd-622f-418f-e4e0-860f7be0bc33",
    "pycharm": {
     "name": "#%%\n"
    }
   },
   "source": [
    "y = 1.2\n",
    "z = 2.4\n",
    "y+z == 3.6"
   ],
   "execution_count": 28,
   "outputs": [
    {
     "data": {
      "text/plain": "False"
     },
     "execution_count": 28,
     "metadata": {},
     "output_type": "execute_result"
    }
   ]
  },
  {
   "cell_type": "markdown",
   "metadata": {
    "id": "kC4clg7PAymW",
    "pycharm": {
     "name": "#%% md\n"
    }
   },
   "source": [
    "### 2.1.5 출력문"
   ]
  },
  {
   "cell_type": "code",
   "metadata": {
    "colab": {
     "base_uri": "https://localhost:8080/"
    },
    "id": "cPLuso87AxBk",
    "executionInfo": {
     "status": "ok",
     "timestamp": 1618431155527,
     "user_tz": -120,
     "elapsed": 512,
     "user": {
      "displayName": "Yongho Kim",
      "photoUrl": "https://lh3.googleusercontent.com/a-/AOh14Gi2wNzosHEMwoF2HzqTpyOJ8UgyBgGlsgUdQkMb=s64",
      "userId": "03955262880093103775"
     }
    },
    "outputId": "b8ecd65d-41a4-47ed-c92d-2ae75916cc3f",
    "pycharm": {
     "name": "#%%\n"
    }
   },
   "source": [
    "print(\"Hello\")"
   ],
   "execution_count": 29,
   "outputs": [
    {
     "name": "stdout",
     "output_type": "stream",
     "text": [
      "Hello\n"
     ]
    }
   ]
  },
  {
   "cell_type": "code",
   "metadata": {
    "colab": {
     "base_uri": "https://localhost:8080/"
    },
    "id": "hZDM_6PAA5rv",
    "executionInfo": {
     "status": "ok",
     "timestamp": 1618431164586,
     "user_tz": -120,
     "elapsed": 599,
     "user": {
      "displayName": "Yongho Kim",
      "photoUrl": "https://lh3.googleusercontent.com/a-/AOh14Gi2wNzosHEMwoF2HzqTpyOJ8UgyBgGlsgUdQkMb=s64",
      "userId": "03955262880093103775"
     }
    },
    "outputId": "0587d18c-7ae5-4063-9e11-7329587c7dff",
    "pycharm": {
     "name": "#%%\n"
    }
   },
   "source": [
    "a = 5\n",
    "print(\"a\")"
   ],
   "execution_count": 30,
   "outputs": [
    {
     "name": "stdout",
     "output_type": "stream",
     "text": [
      "a\n"
     ]
    }
   ]
  },
  {
   "cell_type": "code",
   "metadata": {
    "colab": {
     "base_uri": "https://localhost:8080/"
    },
    "id": "bPI6ucaKA735",
    "executionInfo": {
     "status": "ok",
     "timestamp": 1618431172280,
     "user_tz": -120,
     "elapsed": 407,
     "user": {
      "displayName": "Yongho Kim",
      "photoUrl": "https://lh3.googleusercontent.com/a-/AOh14Gi2wNzosHEMwoF2HzqTpyOJ8UgyBgGlsgUdQkMb=s64",
      "userId": "03955262880093103775"
     }
    },
    "outputId": "bb2bbd52-171b-4015-fe22-2b982c9707a0",
    "pycharm": {
     "name": "#%%\n"
    }
   },
   "source": [
    "print(a)"
   ],
   "execution_count": 31,
   "outputs": [
    {
     "name": "stdout",
     "output_type": "stream",
     "text": [
      "5\n"
     ]
    }
   ]
  },
  {
   "cell_type": "code",
   "metadata": {
    "colab": {
     "base_uri": "https://localhost:8080/"
    },
    "id": "-Yze1akLA9y-",
    "executionInfo": {
     "status": "ok",
     "timestamp": 1618431197262,
     "user_tz": -120,
     "elapsed": 552,
     "user": {
      "displayName": "Yongho Kim",
      "photoUrl": "https://lh3.googleusercontent.com/a-/AOh14Gi2wNzosHEMwoF2HzqTpyOJ8UgyBgGlsgUdQkMb=s64",
      "userId": "03955262880093103775"
     }
    },
    "outputId": "e4b93267-0b3d-4770-9ebf-36a4437cc6c1",
    "pycharm": {
     "name": "#%%\n"
    }
   },
   "source": [
    "a = 9\n",
    "b = 10\n",
    "print(f\"I got {a} out of {b}.\")"
   ],
   "execution_count": 32,
   "outputs": [
    {
     "name": "stdout",
     "output_type": "stream",
     "text": [
      "I got 9 out of 10.\n"
     ]
    }
   ]
  },
  {
   "cell_type": "code",
   "metadata": {
    "colab": {
     "base_uri": "https://localhost:8080/"
    },
    "id": "UUc0M48eBD3H",
    "executionInfo": {
     "status": "ok",
     "timestamp": 1618431217484,
     "user_tz": -120,
     "elapsed": 431,
     "user": {
      "displayName": "Yongho Kim",
      "photoUrl": "https://lh3.googleusercontent.com/a-/AOh14Gi2wNzosHEMwoF2HzqTpyOJ8UgyBgGlsgUdQkMb=s64",
      "userId": "03955262880093103775"
     }
    },
    "outputId": "e3cdb7ee-cb7f-4f20-a6dc-57a93ae12909",
    "pycharm": {
     "name": "#%%\n"
    }
   },
   "source": [
    "print('I am ' + str(a) + ' years old.')"
   ],
   "execution_count": 33,
   "outputs": [
    {
     "name": "stdout",
     "output_type": "stream",
     "text": [
      "I am 9 years old.\n"
     ]
    }
   ]
  },
  {
   "cell_type": "code",
   "metadata": {
    "colab": {
     "base_uri": "https://localhost:8080/"
    },
    "id": "k0RuI7wxBI08",
    "executionInfo": {
     "status": "ok",
     "timestamp": 1618431230302,
     "user_tz": -120,
     "elapsed": 545,
     "user": {
      "displayName": "Yongho Kim",
      "photoUrl": "https://lh3.googleusercontent.com/a-/AOh14Gi2wNzosHEMwoF2HzqTpyOJ8UgyBgGlsgUdQkMb=s64",
      "userId": "03955262880093103775"
     }
    },
    "outputId": "28474c2f-e342-422a-f3b3-d818c011697e",
    "pycharm": {
     "name": "#%%\n"
    }
   },
   "source": [
    "a = 4\n",
    "b = \"cat\"\n",
    "c = 4.2123213\n",
    "print(c)\n",
    "print(\"%.1f\" % (c))\n",
    "print(\"%.2f\" % (c))\n",
    "print(\"%.4f\" % (c))\n",
    "print(\"%d, %s, %.1f\" % (a, b, c))"
   ],
   "execution_count": 34,
   "outputs": [
    {
     "name": "stdout",
     "output_type": "stream",
     "text": [
      "4.2123213\n",
      "4.2\n",
      "4.21\n",
      "4.2123\n",
      "4, cat, 4.2\n"
     ]
    }
   ]
  },
  {
   "cell_type": "markdown",
   "metadata": {
    "id": "0zTs-7BUBV4q",
    "pycharm": {
     "name": "#%% md\n"
    }
   },
   "source": [
    "### 2.1.6 라이브러리"
   ]
  },
  {
   "cell_type": "code",
   "metadata": {
    "colab": {
     "base_uri": "https://localhost:8080/"
    },
    "id": "1Z0-Mg9wBL7c",
    "executionInfo": {
     "status": "ok",
     "timestamp": 1618431304030,
     "user_tz": -120,
     "elapsed": 454,
     "user": {
      "displayName": "Yongho Kim",
      "photoUrl": "https://lh3.googleusercontent.com/a-/AOh14Gi2wNzosHEMwoF2HzqTpyOJ8UgyBgGlsgUdQkMb=s64",
      "userId": "03955262880093103775"
     }
    },
    "outputId": "c44dd646-0913-439c-8d3f-fed081c0f71c",
    "pycharm": {
     "name": "#%%\n"
    }
   },
   "source": [
    "import numpy\n",
    "arr = numpy.array([1,2,3])\n",
    "numpy.sum(arr)"
   ],
   "execution_count": 35,
   "outputs": [
    {
     "data": {
      "text/plain": "6"
     },
     "execution_count": 35,
     "metadata": {},
     "output_type": "execute_result"
    }
   ]
  },
  {
   "cell_type": "code",
   "metadata": {
    "colab": {
     "base_uri": "https://localhost:8080/"
    },
    "id": "XIb9cHsfBT97",
    "executionInfo": {
     "status": "ok",
     "timestamp": 1618431311786,
     "user_tz": -120,
     "elapsed": 549,
     "user": {
      "displayName": "Yongho Kim",
      "photoUrl": "https://lh3.googleusercontent.com/a-/AOh14Gi2wNzosHEMwoF2HzqTpyOJ8UgyBgGlsgUdQkMb=s64",
      "userId": "03955262880093103775"
     }
    },
    "outputId": "fc53ed8b-c427-44c9-ebf4-330326224980",
    "pycharm": {
     "name": "#%%\n"
    }
   },
   "source": [
    "import numpy as np\n",
    "arr = np.array([1,2,3])\n",
    "np.sum(arr)"
   ],
   "execution_count": 36,
   "outputs": [
    {
     "data": {
      "text/plain": "6"
     },
     "execution_count": 36,
     "metadata": {},
     "output_type": "execute_result"
    }
   ]
  },
  {
   "cell_type": "code",
   "metadata": {
    "colab": {
     "base_uri": "https://localhost:8080/"
    },
    "id": "SdlfeKufBf0n",
    "executionInfo": {
     "status": "ok",
     "timestamp": 1618431318565,
     "user_tz": -120,
     "elapsed": 597,
     "user": {
      "displayName": "Yongho Kim",
      "photoUrl": "https://lh3.googleusercontent.com/a-/AOh14Gi2wNzosHEMwoF2HzqTpyOJ8UgyBgGlsgUdQkMb=s64",
      "userId": "03955262880093103775"
     }
    },
    "outputId": "b3433cf0-c44e-4173-a033-47d90be3a635",
    "pycharm": {
     "name": "#%%\n"
    }
   },
   "source": [
    "from numpy import array, mean\n",
    "arr = array([1,2,3])\n",
    "mean(arr)"
   ],
   "execution_count": 37,
   "outputs": [
    {
     "data": {
      "text/plain": "2.0"
     },
     "execution_count": 37,
     "metadata": {},
     "output_type": "execute_result"
    }
   ]
  },
  {
   "cell_type": "markdown",
   "metadata": {
    "id": "om6VnEpxBluU",
    "pycharm": {
     "name": "#%% md\n"
    }
   },
   "source": [
    "#### 디양한 라이브러리 존재\n",
    "import numpy as np\n",
    "\n",
    "import pandas as pd\n",
    "\n",
    "import sklearn\n",
    "\n",
    "import torch\n",
    "\n",
    "import tqdm as tqdm\n",
    "\n",
    "...."
   ]
  },
  {
   "cell_type": "code",
   "metadata": {
    "id": "Z0sm6dlfBhcZ",
    "pycharm": {
     "name": "#%%\n"
    }
   },
   "source": [],
   "execution_count": 37,
   "outputs": []
  }
 ]
}