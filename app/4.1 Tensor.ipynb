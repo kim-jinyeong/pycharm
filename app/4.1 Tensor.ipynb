{
 "nbformat": 4,
 "nbformat_minor": 0,
 "metadata": {
  "colab": {
   "name": "4.1 Tensor.ipynb",
   "provenance": [],
   "collapsed_sections": []
  },
  "kernelspec": {
   "display_name": "Python 3",
   "language": "python",
   "name": "python3"
  },
  "language_info": {
   "codemirror_mode": {
    "name": "ipython",
    "version": 3
   },
   "file_extension": ".py",
   "mimetype": "text/x-python",
   "name": "python",
   "nbconvert_exporter": "python",
   "pygments_lexer": "ipython3",
   "version": "3.7.4"
  }
 },
 "cells": [
  {
   "cell_type": "markdown",
   "metadata": {
    "id": "7rl_ulNMlEyH",
    "pycharm": {
     "name": "#%% md\n"
    }
   },
   "source": [
    "# 4. 파이토치 기본\n",
    "## 4.1 텐서"
   ]
  },
  {
   "cell_type": "code",
   "metadata": {
    "id": "eJxcWmXumpG5",
    "executionInfo": {
     "status": "ok",
     "timestamp": 1636291399337,
     "user_tz": -60,
     "elapsed": 26612,
     "user": {
      "displayName": "딥러닝호형",
      "photoUrl": "https://lh3.googleusercontent.com/a-/AOh14GhhDjkGnBZ0JW1k2J6y2lNP9dJeVbQWPuZEpfUc=s64",
      "userId": "11263585794403583722"
     }
    },
    "pycharm": {
     "name": "#%%\n"
    }
   },
   "source": [
    "import torch\n",
    "import numpy as np"
   ],
   "execution_count": 1,
   "outputs": []
  },
  {
   "cell_type": "code",
   "metadata": {
    "id": "J-k5bVTHZZTu",
    "executionInfo": {
     "status": "ok",
     "timestamp": 1636291400713,
     "user_tz": -60,
     "elapsed": 7,
     "user": {
      "displayName": "딥러닝호형",
      "photoUrl": "https://lh3.googleusercontent.com/a-/AOh14GhhDjkGnBZ0JW1k2J6y2lNP9dJeVbQWPuZEpfUc=s64",
      "userId": "11263585794403583722"
     }
    },
    "pycharm": {
     "name": "#%%\n"
    }
   },
   "source": [
    "x = torch.empty(5,4)"
   ],
   "execution_count": 2,
   "outputs": []
  },
  {
   "cell_type": "code",
   "metadata": {
    "colab": {
     "base_uri": "https://localhost:8080/"
    },
    "id": "BucLWFrvZcsu",
    "executionInfo": {
     "status": "ok",
     "timestamp": 1636291402594,
     "user_tz": -60,
     "elapsed": 6,
     "user": {
      "displayName": "딥러닝호형",
      "photoUrl": "https://lh3.googleusercontent.com/a-/AOh14GhhDjkGnBZ0JW1k2J6y2lNP9dJeVbQWPuZEpfUc=s64",
      "userId": "11263585794403583722"
     }
    },
    "outputId": "be584563-757c-4f77-d583-9d1baf20798b",
    "pycharm": {
     "name": "#%%\n"
    }
   },
   "source": [
    "print(x)"
   ],
   "execution_count": 3,
   "outputs": [
    {
     "name": "stdout",
     "output_type": "stream",
     "text": [
      "tensor([[8.9082e-39, 1.0286e-38, 4.2246e-39, 1.0286e-38],\n",
      "        [1.0653e-38, 1.0194e-38, 8.4490e-39, 1.0469e-38],\n",
      "        [9.3674e-39, 9.9184e-39, 8.7245e-39, 9.2755e-39],\n",
      "        [8.9082e-39, 9.9184e-39, 8.4490e-39, 9.6429e-39],\n",
      "        [1.0653e-38, 1.0469e-38, 4.2246e-39, 1.0378e-38]])\n"
     ]
    }
   ]
  },
  {
   "cell_type": "code",
   "metadata": {
    "colab": {
     "base_uri": "https://localhost:8080/"
    },
    "id": "ZpL9_gTiZdqJ",
    "executionInfo": {
     "status": "ok",
     "timestamp": 1636291403928,
     "user_tz": -60,
     "elapsed": 6,
     "user": {
      "displayName": "딥러닝호형",
      "photoUrl": "https://lh3.googleusercontent.com/a-/AOh14GhhDjkGnBZ0JW1k2J6y2lNP9dJeVbQWPuZEpfUc=s64",
      "userId": "11263585794403583722"
     }
    },
    "outputId": "f483ebc5-26e8-4779-c74e-4f975c6a183d",
    "pycharm": {
     "name": "#%%\n"
    }
   },
   "source": [
    "torch.ones(3,3)"
   ],
   "execution_count": 4,
   "outputs": [
    {
     "data": {
      "text/plain": "tensor([[1., 1., 1.],\n        [1., 1., 1.],\n        [1., 1., 1.]])"
     },
     "execution_count": 4,
     "metadata": {},
     "output_type": "execute_result"
    }
   ]
  },
  {
   "cell_type": "code",
   "metadata": {
    "colab": {
     "base_uri": "https://localhost:8080/"
    },
    "id": "mm3gIEnEZgZc",
    "executionInfo": {
     "status": "ok",
     "timestamp": 1636291405635,
     "user_tz": -60,
     "elapsed": 7,
     "user": {
      "displayName": "딥러닝호형",
      "photoUrl": "https://lh3.googleusercontent.com/a-/AOh14GhhDjkGnBZ0JW1k2J6y2lNP9dJeVbQWPuZEpfUc=s64",
      "userId": "11263585794403583722"
     }
    },
    "outputId": "1b9780bb-d640-42e7-bb40-5b2f3c489413",
    "pycharm": {
     "name": "#%%\n"
    }
   },
   "source": [
    "torch.zeros(2)"
   ],
   "execution_count": 5,
   "outputs": [
    {
     "data": {
      "text/plain": "tensor([0., 0.])"
     },
     "execution_count": 5,
     "metadata": {},
     "output_type": "execute_result"
    }
   ]
  },
  {
   "cell_type": "code",
   "metadata": {
    "colab": {
     "base_uri": "https://localhost:8080/"
    },
    "id": "Nf9nN58qZh41",
    "executionInfo": {
     "status": "ok",
     "timestamp": 1636291407111,
     "user_tz": -60,
     "elapsed": 6,
     "user": {
      "displayName": "딥러닝호형",
      "photoUrl": "https://lh3.googleusercontent.com/a-/AOh14GhhDjkGnBZ0JW1k2J6y2lNP9dJeVbQWPuZEpfUc=s64",
      "userId": "11263585794403583722"
     }
    },
    "outputId": "4d8fae48-11ed-427f-ebf4-64ea0512a94b",
    "pycharm": {
     "name": "#%%\n"
    }
   },
   "source": [
    "torch.rand(5,6)"
   ],
   "execution_count": 6,
   "outputs": [
    {
     "data": {
      "text/plain": "tensor([[0.8247, 0.1895, 0.1080, 0.8054, 0.3347, 0.2016],\n        [0.5404, 0.6099, 0.8351, 0.7964, 0.1402, 0.5730],\n        [0.2102, 0.3128, 0.4704, 0.0214, 0.1214, 0.1650],\n        [0.9212, 0.0139, 0.7412, 0.9744, 0.6450, 0.3697],\n        [0.5179, 0.4304, 0.4282, 0.4637, 0.5445, 0.7213]])"
     },
     "execution_count": 6,
     "metadata": {},
     "output_type": "execute_result"
    }
   ]
  },
  {
   "cell_type": "code",
   "metadata": {
    "id": "7OxzB-dQZkff",
    "executionInfo": {
     "status": "ok",
     "timestamp": 1636291409258,
     "user_tz": -60,
     "elapsed": 3,
     "user": {
      "displayName": "딥러닝호형",
      "photoUrl": "https://lh3.googleusercontent.com/a-/AOh14GhhDjkGnBZ0JW1k2J6y2lNP9dJeVbQWPuZEpfUc=s64",
      "userId": "11263585794403583722"
     }
    },
    "pycharm": {
     "name": "#%%\n"
    }
   },
   "source": [
    "l = [13,4]\n",
    "r = np.array([4,56,7])"
   ],
   "execution_count": 7,
   "outputs": []
  },
  {
   "cell_type": "code",
   "metadata": {
    "colab": {
     "base_uri": "https://localhost:8080/"
    },
    "id": "GfkreWRvZqFK",
    "executionInfo": {
     "status": "ok",
     "timestamp": 1636291413091,
     "user_tz": -60,
     "elapsed": 411,
     "user": {
      "displayName": "딥러닝호형",
      "photoUrl": "https://lh3.googleusercontent.com/a-/AOh14GhhDjkGnBZ0JW1k2J6y2lNP9dJeVbQWPuZEpfUc=s64",
      "userId": "11263585794403583722"
     }
    },
    "outputId": "97487b33-c634-43ac-c283-de11df0ea2b3",
    "pycharm": {
     "name": "#%%\n"
    }
   },
   "source": [
    "torch.tensor(l)"
   ],
   "execution_count": 8,
   "outputs": [
    {
     "data": {
      "text/plain": "tensor([13,  4])"
     },
     "execution_count": 8,
     "metadata": {},
     "output_type": "execute_result"
    }
   ]
  },
  {
   "cell_type": "code",
   "metadata": {
    "colab": {
     "base_uri": "https://localhost:8080/"
    },
    "id": "c-lm5kzXZtzS",
    "executionInfo": {
     "status": "ok",
     "timestamp": 1636291421765,
     "user_tz": -60,
     "elapsed": 413,
     "user": {
      "displayName": "딥러닝호형",
      "photoUrl": "https://lh3.googleusercontent.com/a-/AOh14GhhDjkGnBZ0JW1k2J6y2lNP9dJeVbQWPuZEpfUc=s64",
      "userId": "11263585794403583722"
     }
    },
    "outputId": "16b7ddf4-93dc-4759-c5b7-c76d5e512bb0",
    "pycharm": {
     "name": "#%%\n"
    }
   },
   "source": [
    "torch.tensor(r)"
   ],
   "execution_count": 9,
   "outputs": [
    {
     "data": {
      "text/plain": "tensor([ 4, 56,  7], dtype=torch.int32)"
     },
     "execution_count": 9,
     "metadata": {},
     "output_type": "execute_result"
    }
   ]
  },
  {
   "cell_type": "code",
   "metadata": {
    "colab": {
     "base_uri": "https://localhost:8080/"
    },
    "id": "MbVzzWhBZvFj",
    "executionInfo": {
     "status": "ok",
     "timestamp": 1636291423303,
     "user_tz": -60,
     "elapsed": 6,
     "user": {
      "displayName": "딥러닝호형",
      "photoUrl": "https://lh3.googleusercontent.com/a-/AOh14GhhDjkGnBZ0JW1k2J6y2lNP9dJeVbQWPuZEpfUc=s64",
      "userId": "11263585794403583722"
     }
    },
    "outputId": "4ed7fcf1-2949-440c-a3c3-9ca8d5b509dc",
    "pycharm": {
     "name": "#%%\n"
    }
   },
   "source": [
    "x.size()"
   ],
   "execution_count": 10,
   "outputs": [
    {
     "data": {
      "text/plain": "torch.Size([5, 4])"
     },
     "execution_count": 10,
     "metadata": {},
     "output_type": "execute_result"
    }
   ]
  },
  {
   "cell_type": "code",
   "metadata": {
    "colab": {
     "base_uri": "https://localhost:8080/"
    },
    "id": "SH56u67hZzC7",
    "executionInfo": {
     "status": "ok",
     "timestamp": 1636291424524,
     "user_tz": -60,
     "elapsed": 6,
     "user": {
      "displayName": "딥러닝호형",
      "photoUrl": "https://lh3.googleusercontent.com/a-/AOh14GhhDjkGnBZ0JW1k2J6y2lNP9dJeVbQWPuZEpfUc=s64",
      "userId": "11263585794403583722"
     }
    },
    "outputId": "9831473c-511b-4b34-bc47-00230598206d",
    "pycharm": {
     "name": "#%%\n"
    }
   },
   "source": [
    "x.size()[1]"
   ],
   "execution_count": 11,
   "outputs": [
    {
     "data": {
      "text/plain": "4"
     },
     "execution_count": 11,
     "metadata": {},
     "output_type": "execute_result"
    }
   ]
  },
  {
   "cell_type": "code",
   "metadata": {
    "colab": {
     "base_uri": "https://localhost:8080/"
    },
    "id": "G0aT4SgHZ0nB",
    "executionInfo": {
     "status": "ok",
     "timestamp": 1636291425994,
     "user_tz": -60,
     "elapsed": 5,
     "user": {
      "displayName": "딥러닝호형",
      "photoUrl": "https://lh3.googleusercontent.com/a-/AOh14GhhDjkGnBZ0JW1k2J6y2lNP9dJeVbQWPuZEpfUc=s64",
      "userId": "11263585794403583722"
     }
    },
    "outputId": "690bd6a4-b082-4d4a-d7e1-5bf7e6595467",
    "pycharm": {
     "name": "#%%\n"
    }
   },
   "source": [
    "x.size(1)"
   ],
   "execution_count": 12,
   "outputs": [
    {
     "data": {
      "text/plain": "4"
     },
     "execution_count": 12,
     "metadata": {},
     "output_type": "execute_result"
    }
   ]
  },
  {
   "cell_type": "code",
   "metadata": {
    "colab": {
     "base_uri": "https://localhost:8080/"
    },
    "id": "dq8G5iTcZ1lV",
    "executionInfo": {
     "status": "ok",
     "timestamp": 1636291427218,
     "user_tz": -60,
     "elapsed": 6,
     "user": {
      "displayName": "딥러닝호형",
      "photoUrl": "https://lh3.googleusercontent.com/a-/AOh14GhhDjkGnBZ0JW1k2J6y2lNP9dJeVbQWPuZEpfUc=s64",
      "userId": "11263585794403583722"
     }
    },
    "outputId": "05813c7e-72a0-4630-b06a-ddaf6ea1db0a",
    "pycharm": {
     "name": "#%%\n"
    }
   },
   "source": [
    "type(x)"
   ],
   "execution_count": 13,
   "outputs": [
    {
     "data": {
      "text/plain": "torch.Tensor"
     },
     "execution_count": 13,
     "metadata": {},
     "output_type": "execute_result"
    }
   ]
  },
  {
   "cell_type": "code",
   "metadata": {
    "colab": {
     "base_uri": "https://localhost:8080/"
    },
    "id": "Rt4-OyxKZ_-C",
    "executionInfo": {
     "status": "ok",
     "timestamp": 1636291428627,
     "user_tz": -60,
     "elapsed": 5,
     "user": {
      "displayName": "딥러닝호형",
      "photoUrl": "https://lh3.googleusercontent.com/a-/AOh14GhhDjkGnBZ0JW1k2J6y2lNP9dJeVbQWPuZEpfUc=s64",
      "userId": "11263585794403583722"
     }
    },
    "outputId": "91ede2c9-ea6a-471f-fc0f-d2b408e28338",
    "pycharm": {
     "name": "#%%\n"
    }
   },
   "source": [
    "x = torch.rand(2,2) # 2x2 랜덤 행렬\n",
    "y = torch.rand(2,2) # 2x2 랜덤 행렬\n",
    "x+y"
   ],
   "execution_count": 14,
   "outputs": [
    {
     "data": {
      "text/plain": "tensor([[1.2839, 0.9063],\n        [0.3118, 0.8667]])"
     },
     "execution_count": 14,
     "metadata": {},
     "output_type": "execute_result"
    }
   ]
  },
  {
   "cell_type": "code",
   "metadata": {
    "colab": {
     "base_uri": "https://localhost:8080/"
    },
    "id": "XpKUvKQnaEkp",
    "executionInfo": {
     "status": "ok",
     "timestamp": 1636291430401,
     "user_tz": -60,
     "elapsed": 5,
     "user": {
      "displayName": "딥러닝호형",
      "photoUrl": "https://lh3.googleusercontent.com/a-/AOh14GhhDjkGnBZ0JW1k2J6y2lNP9dJeVbQWPuZEpfUc=s64",
      "userId": "11263585794403583722"
     }
    },
    "outputId": "64ab4e28-3323-46a6-9708-136158524059",
    "pycharm": {
     "name": "#%%\n"
    }
   },
   "source": [
    "torch.add(x,y)"
   ],
   "execution_count": 15,
   "outputs": [
    {
     "data": {
      "text/plain": "tensor([[1.2839, 0.9063],\n        [0.3118, 0.8667]])"
     },
     "execution_count": 15,
     "metadata": {},
     "output_type": "execute_result"
    }
   ]
  },
  {
   "cell_type": "code",
   "metadata": {
    "colab": {
     "base_uri": "https://localhost:8080/"
    },
    "id": "GCe20-izaHdj",
    "executionInfo": {
     "status": "ok",
     "timestamp": 1636291505384,
     "user_tz": -60,
     "elapsed": 370,
     "user": {
      "displayName": "딥러닝호형",
      "photoUrl": "https://lh3.googleusercontent.com/a-/AOh14GhhDjkGnBZ0JW1k2J6y2lNP9dJeVbQWPuZEpfUc=s64",
      "userId": "11263585794403583722"
     }
    },
    "outputId": "ad7a4b8b-0cd1-4c20-b21f-c9c1ab4a951a",
    "pycharm": {
     "name": "#%%\n"
    }
   },
   "source": [
    "y.add(x)"
   ],
   "execution_count": 16,
   "outputs": [
    {
     "data": {
      "text/plain": "tensor([[1.2839, 0.9063],\n        [0.3118, 0.8667]])"
     },
     "execution_count": 16,
     "metadata": {},
     "output_type": "execute_result"
    }
   ]
  },
  {
   "cell_type": "code",
   "metadata": {
    "colab": {
     "base_uri": "https://localhost:8080/"
    },
    "id": "SXYi7zM9aIr2",
    "executionInfo": {
     "status": "ok",
     "timestamp": 1636291507167,
     "user_tz": -60,
     "elapsed": 4,
     "user": {
      "displayName": "딥러닝호형",
      "photoUrl": "https://lh3.googleusercontent.com/a-/AOh14GhhDjkGnBZ0JW1k2J6y2lNP9dJeVbQWPuZEpfUc=s64",
      "userId": "11263585794403583722"
     }
    },
    "outputId": "b21c424f-f723-469c-a34e-0db74637732f",
    "pycharm": {
     "name": "#%%\n"
    }
   },
   "source": [
    "y.add_(x)"
   ],
   "execution_count": 17,
   "outputs": [
    {
     "data": {
      "text/plain": "tensor([[1.2839, 0.9063],\n        [0.3118, 0.8667]])"
     },
     "execution_count": 17,
     "metadata": {},
     "output_type": "execute_result"
    }
   ]
  },
  {
   "cell_type": "code",
   "metadata": {
    "colab": {
     "base_uri": "https://localhost:8080/"
    },
    "id": "U-yblY7oaMlu",
    "executionInfo": {
     "status": "ok",
     "timestamp": 1636291510036,
     "user_tz": -60,
     "elapsed": 415,
     "user": {
      "displayName": "딥러닝호형",
      "photoUrl": "https://lh3.googleusercontent.com/a-/AOh14GhhDjkGnBZ0JW1k2J6y2lNP9dJeVbQWPuZEpfUc=s64",
      "userId": "11263585794403583722"
     }
    },
    "outputId": "0eb0e2b9-097c-4bb2-b551-1e3488e95cc7",
    "pycharm": {
     "name": "#%%\n"
    }
   },
   "source": [
    "x = torch.rand(8,8)\n",
    "print(x.size())"
   ],
   "execution_count": 18,
   "outputs": [
    {
     "name": "stdout",
     "output_type": "stream",
     "text": [
      "torch.Size([8, 8])\n"
     ]
    }
   ]
  },
  {
   "cell_type": "code",
   "metadata": {
    "colab": {
     "base_uri": "https://localhost:8080/"
    },
    "id": "rZXigkxwaRWL",
    "executionInfo": {
     "status": "ok",
     "timestamp": 1636291513621,
     "user_tz": -60,
     "elapsed": 416,
     "user": {
      "displayName": "딥러닝호형",
      "photoUrl": "https://lh3.googleusercontent.com/a-/AOh14GhhDjkGnBZ0JW1k2J6y2lNP9dJeVbQWPuZEpfUc=s64",
      "userId": "11263585794403583722"
     }
    },
    "outputId": "f9d2a157-4ff0-4ad6-c48b-11486da474e3",
    "pycharm": {
     "name": "#%%\n"
    }
   },
   "source": [
    "a = x.view(64)\n",
    "print(a.size())"
   ],
   "execution_count": 19,
   "outputs": [
    {
     "name": "stdout",
     "output_type": "stream",
     "text": [
      "torch.Size([64])\n"
     ]
    }
   ]
  },
  {
   "cell_type": "code",
   "metadata": {
    "colab": {
     "base_uri": "https://localhost:8080/"
    },
    "id": "hKHkn1kPaUV5",
    "executionInfo": {
     "status": "ok",
     "timestamp": 1636291515566,
     "user_tz": -60,
     "elapsed": 6,
     "user": {
      "displayName": "딥러닝호형",
      "photoUrl": "https://lh3.googleusercontent.com/a-/AOh14GhhDjkGnBZ0JW1k2J6y2lNP9dJeVbQWPuZEpfUc=s64",
      "userId": "11263585794403583722"
     }
    },
    "outputId": "d76c9b2d-0f39-4da4-d6d2-525eb33014f1",
    "pycharm": {
     "name": "#%%\n"
    }
   },
   "source": [
    "b = x.view(-1,4,4)\n",
    "print(b.size())"
   ],
   "execution_count": 20,
   "outputs": [
    {
     "name": "stdout",
     "output_type": "stream",
     "text": [
      "torch.Size([4, 4, 4])\n"
     ]
    }
   ]
  },
  {
   "cell_type": "code",
   "metadata": {
    "colab": {
     "base_uri": "https://localhost:8080/"
    },
    "id": "UrNKQayKaXnN",
    "executionInfo": {
     "status": "ok",
     "timestamp": 1636291516894,
     "user_tz": -60,
     "elapsed": 5,
     "user": {
      "displayName": "딥러닝호형",
      "photoUrl": "https://lh3.googleusercontent.com/a-/AOh14GhhDjkGnBZ0JW1k2J6y2lNP9dJeVbQWPuZEpfUc=s64",
      "userId": "11263585794403583722"
     }
    },
    "outputId": "a04794e7-cd41-481d-df8f-1235acb519cb",
    "pycharm": {
     "name": "#%%\n"
    }
   },
   "source": [
    "y = x.numpy()\n",
    "type(y)"
   ],
   "execution_count": 21,
   "outputs": [
    {
     "data": {
      "text/plain": "numpy.ndarray"
     },
     "execution_count": 21,
     "metadata": {},
     "output_type": "execute_result"
    }
   ]
  },
  {
   "cell_type": "code",
   "metadata": {
    "colab": {
     "base_uri": "https://localhost:8080/"
    },
    "id": "CJ5cePC_agnx",
    "executionInfo": {
     "status": "ok",
     "timestamp": 1636291521913,
     "user_tz": -60,
     "elapsed": 413,
     "user": {
      "displayName": "딥러닝호형",
      "photoUrl": "https://lh3.googleusercontent.com/a-/AOh14GhhDjkGnBZ0JW1k2J6y2lNP9dJeVbQWPuZEpfUc=s64",
      "userId": "11263585794403583722"
     }
    },
    "outputId": "8cd4d7e7-1bbb-41b0-90bf-d5828a2ffba8",
    "pycharm": {
     "name": "#%%\n"
    }
   },
   "source": [
    "x = torch.ones(1)\n",
    "print(x.item())"
   ],
   "execution_count": 22,
   "outputs": [
    {
     "name": "stdout",
     "output_type": "stream",
     "text": [
      "1.0\n"
     ]
    }
   ]
  },
  {
   "cell_type": "code",
   "metadata": {
    "id": "rpSorJN1aswT",
    "pycharm": {
     "name": "#%%\n"
    }
   },
   "source": [],
   "execution_count": 22,
   "outputs": []
  }
 ]
}