{
 "nbformat": 4,
 "nbformat_minor": 0,
 "metadata": {
  "accelerator": "GPU",
  "colab": {
   "name": "7.1 Vanilla RNN.ipynb",
   "provenance": [],
   "collapsed_sections": []
  },
  "kernelspec": {
   "display_name": "Python 3",
   "language": "python",
   "name": "python3"
  },
  "language_info": {
   "codemirror_mode": {
    "name": "ipython",
    "version": 3
   },
   "file_extension": ".py",
   "mimetype": "text/x-python",
   "name": "python",
   "nbconvert_exporter": "python",
   "pygments_lexer": "ipython3",
   "version": "3.7.4"
  }
 },
 "cells": [
  {
   "cell_type": "markdown",
   "metadata": {
    "id": "7VGuuPjyyCou",
    "pycharm": {
     "name": "#%% md\n"
    }
   },
   "source": [
    "# 7. 순환 신경망\n",
    "## 7.1 기본 순환 신경망"
   ]
  },
  {
   "cell_type": "code",
   "metadata": {
    "id": "jZgYzwG3yCo5",
    "executionInfo": {
     "status": "ok",
     "timestamp": 1637553495056,
     "user_tz": -60,
     "elapsed": 26893,
     "user": {
      "displayName": "딥러닝호형",
      "photoUrl": "https://lh3.googleusercontent.com/a-/AOh14GhhDjkGnBZ0JW1k2J6y2lNP9dJeVbQWPuZEpfUc=s64",
      "userId": "11263585794403583722"
     }
    },
    "pycharm": {
     "name": "#%%\n"
    }
   },
   "source": [
    "import numpy as np\n",
    "import pandas as pd\n",
    "from sklearn.preprocessing import MinMaxScaler\n",
    "\n",
    "import torch\n",
    "import torch.nn as nn\n",
    "import torch.optim as optim\n",
    "\n",
    "import matplotlib.pyplot as plt\n"
   ],
   "execution_count": 8,
   "outputs": []
  },
  {
   "cell_type": "code",
   "metadata": {
    "id": "hDRxDX46yLy4",
    "colab": {
     "base_uri": "https://localhost:8080/"
    },
    "executionInfo": {
     "status": "ok",
     "timestamp": 1637553514915,
     "user_tz": -60,
     "elapsed": 19865,
     "user": {
      "displayName": "딥러닝호형",
      "photoUrl": "https://lh3.googleusercontent.com/a-/AOh14GhhDjkGnBZ0JW1k2J6y2lNP9dJeVbQWPuZEpfUc=s64",
      "userId": "11263585794403583722"
     }
    },
    "outputId": "64ad7b7f-107c-44dc-9fd4-169495921f65",
    "pycharm": {
     "name": "#%%\n"
    }
   },
   "source": [
    "#from google.colab import drive\n",
    "#drive.mount('/content/gdrive')"
   ],
   "execution_count": 8,
   "outputs": []
  },
  {
   "cell_type": "code",
   "metadata": {
    "id": "RI0n8kCGyL9Y",
    "colab": {
     "base_uri": "https://localhost:8080/"
    },
    "executionInfo": {
     "status": "ok",
     "timestamp": 1637553515205,
     "user_tz": -60,
     "elapsed": 301,
     "user": {
      "displayName": "딥러닝호형",
      "photoUrl": "https://lh3.googleusercontent.com/a-/AOh14GhhDjkGnBZ0JW1k2J6y2lNP9dJeVbQWPuZEpfUc=s64",
      "userId": "11263585794403583722"
     }
    },
    "outputId": "4c69583d-6e24-4c80-9922-ef7aebc5615b",
    "pycharm": {
     "name": "#%%\n"
    }
   },
   "source": [
    "#cd/content/gdrive/My Drive/pytorch_dlbro"
   ],
   "execution_count": 8,
   "outputs": []
  },
  {
   "cell_type": "code",
   "metadata": {
    "id": "vXBsywcXyCo7",
    "executionInfo": {
     "status": "ok",
     "timestamp": 1637553516024,
     "user_tz": -60,
     "elapsed": 822,
     "user": {
      "displayName": "딥러닝호형",
      "photoUrl": "https://lh3.googleusercontent.com/a-/AOh14GhhDjkGnBZ0JW1k2J6y2lNP9dJeVbQWPuZEpfUc=s64",
      "userId": "11263585794403583722"
     }
    },
    "pycharm": {
     "name": "#%%\n"
    }
   },
   "source": [
    "df = pd.read_csv(\"./data/kospi.csv\")"
   ],
   "execution_count": 9,
   "outputs": []
  },
  {
   "cell_type": "code",
   "metadata": {
    "id": "tqZ1DIQTWgIG",
    "colab": {
     "base_uri": "https://localhost:8080/",
     "height": 204
    },
    "executionInfo": {
     "status": "ok",
     "timestamp": 1637553516025,
     "user_tz": -60,
     "elapsed": 17,
     "user": {
      "displayName": "딥러닝호형",
      "photoUrl": "https://lh3.googleusercontent.com/a-/AOh14GhhDjkGnBZ0JW1k2J6y2lNP9dJeVbQWPuZEpfUc=s64",
      "userId": "11263585794403583722"
     }
    },
    "outputId": "d863d04f-22b8-4ae7-fb11-7168dfebb0a8",
    "pycharm": {
     "name": "#%%\n"
    }
   },
   "source": [
    "df.head()"
   ],
   "execution_count": 10,
   "outputs": [
    {
     "data": {
      "text/plain": "         Date         Open         High          Low        Close  \\\n0  2019-01-30  2183.489990  2206.199951  2177.879883  2206.199951   \n1  2019-01-31  2222.879883  2222.879883  2201.219971  2204.850098   \n2  2019-02-01  2211.929932  2218.780029  2201.409912  2203.459961   \n3  2019-02-07  2215.770020  2215.790039  2196.770020  2203.419922   \n4  2019-02-08  2192.010010  2192.479980  2171.959961  2177.050049   \n\n     Adj Close  Volume  \n0  2206.199951  480400  \n1  2204.850098  545200  \n2  2203.459961  479400  \n3  2203.419922  427800  \n4  2177.050049  391000  ",
      "text/html": "<div>\n<style scoped>\n    .dataframe tbody tr th:only-of-type {\n        vertical-align: middle;\n    }\n\n    .dataframe tbody tr th {\n        vertical-align: top;\n    }\n\n    .dataframe thead th {\n        text-align: right;\n    }\n</style>\n<table border=\"1\" class=\"dataframe\">\n  <thead>\n    <tr style=\"text-align: right;\">\n      <th></th>\n      <th>Date</th>\n      <th>Open</th>\n      <th>High</th>\n      <th>Low</th>\n      <th>Close</th>\n      <th>Adj Close</th>\n      <th>Volume</th>\n    </tr>\n  </thead>\n  <tbody>\n    <tr>\n      <th>0</th>\n      <td>2019-01-30</td>\n      <td>2183.489990</td>\n      <td>2206.199951</td>\n      <td>2177.879883</td>\n      <td>2206.199951</td>\n      <td>2206.199951</td>\n      <td>480400</td>\n    </tr>\n    <tr>\n      <th>1</th>\n      <td>2019-01-31</td>\n      <td>2222.879883</td>\n      <td>2222.879883</td>\n      <td>2201.219971</td>\n      <td>2204.850098</td>\n      <td>2204.850098</td>\n      <td>545200</td>\n    </tr>\n    <tr>\n      <th>2</th>\n      <td>2019-02-01</td>\n      <td>2211.929932</td>\n      <td>2218.780029</td>\n      <td>2201.409912</td>\n      <td>2203.459961</td>\n      <td>2203.459961</td>\n      <td>479400</td>\n    </tr>\n    <tr>\n      <th>3</th>\n      <td>2019-02-07</td>\n      <td>2215.770020</td>\n      <td>2215.790039</td>\n      <td>2196.770020</td>\n      <td>2203.419922</td>\n      <td>2203.419922</td>\n      <td>427800</td>\n    </tr>\n    <tr>\n      <th>4</th>\n      <td>2019-02-08</td>\n      <td>2192.010010</td>\n      <td>2192.479980</td>\n      <td>2171.959961</td>\n      <td>2177.050049</td>\n      <td>2177.050049</td>\n      <td>391000</td>\n    </tr>\n  </tbody>\n</table>\n</div>"
     },
     "execution_count": 10,
     "metadata": {},
     "output_type": "execute_result"
    }
   ]
  },
  {
   "cell_type": "code",
   "metadata": {
    "id": "n80viFA2yCo7",
    "executionInfo": {
     "status": "ok",
     "timestamp": 1637553516026,
     "user_tz": -60,
     "elapsed": 15,
     "user": {
      "displayName": "딥러닝호형",
      "photoUrl": "https://lh3.googleusercontent.com/a-/AOh14GhhDjkGnBZ0JW1k2J6y2lNP9dJeVbQWPuZEpfUc=s64",
      "userId": "11263585794403583722"
     }
    },
    "pycharm": {
     "name": "#%%\n"
    }
   },
   "source": [
    "scaler = MinMaxScaler()\n",
    "df[['Open','High','Low','Close','Volume']] = scaler.fit_transform(df[['Open','High','Low','Close','Volume']])"
   ],
   "execution_count": 11,
   "outputs": []
  },
  {
   "cell_type": "code",
   "metadata": {
    "id": "yT4eN6kYyCo7",
    "colab": {
     "base_uri": "https://localhost:8080/",
     "height": 204
    },
    "executionInfo": {
     "status": "ok",
     "timestamp": 1637553516408,
     "user_tz": -60,
     "elapsed": 395,
     "user": {
      "displayName": "딥러닝호형",
      "photoUrl": "https://lh3.googleusercontent.com/a-/AOh14GhhDjkGnBZ0JW1k2J6y2lNP9dJeVbQWPuZEpfUc=s64",
      "userId": "11263585794403583722"
     }
    },
    "outputId": "4ecee93a-6dfa-4995-f7b9-0d561a4b124b",
    "pycharm": {
     "name": "#%%\n"
    }
   },
   "source": [
    "df.head()"
   ],
   "execution_count": 12,
   "outputs": [
    {
     "data": {
      "text/plain": "         Date      Open      High       Low     Close    Adj Close    Volume\n0  2019-01-30  0.722898  0.732351  0.745525  0.759235  2206.199951  0.242113\n1  2019-01-31  0.763058  0.750069  0.769089  0.757866  2204.850098  0.274771\n2  2019-02-01  0.751894  0.745714  0.769280  0.756456  2203.459961  0.241609\n3  2019-02-07  0.755809  0.742538  0.764596  0.756415  2203.419922  0.215603\n4  2019-02-08  0.731584  0.717777  0.739548  0.729669  2177.050049  0.197057",
      "text/html": "<div>\n<style scoped>\n    .dataframe tbody tr th:only-of-type {\n        vertical-align: middle;\n    }\n\n    .dataframe tbody tr th {\n        vertical-align: top;\n    }\n\n    .dataframe thead th {\n        text-align: right;\n    }\n</style>\n<table border=\"1\" class=\"dataframe\">\n  <thead>\n    <tr style=\"text-align: right;\">\n      <th></th>\n      <th>Date</th>\n      <th>Open</th>\n      <th>High</th>\n      <th>Low</th>\n      <th>Close</th>\n      <th>Adj Close</th>\n      <th>Volume</th>\n    </tr>\n  </thead>\n  <tbody>\n    <tr>\n      <th>0</th>\n      <td>2019-01-30</td>\n      <td>0.722898</td>\n      <td>0.732351</td>\n      <td>0.745525</td>\n      <td>0.759235</td>\n      <td>2206.199951</td>\n      <td>0.242113</td>\n    </tr>\n    <tr>\n      <th>1</th>\n      <td>2019-01-31</td>\n      <td>0.763058</td>\n      <td>0.750069</td>\n      <td>0.769089</td>\n      <td>0.757866</td>\n      <td>2204.850098</td>\n      <td>0.274771</td>\n    </tr>\n    <tr>\n      <th>2</th>\n      <td>2019-02-01</td>\n      <td>0.751894</td>\n      <td>0.745714</td>\n      <td>0.769280</td>\n      <td>0.756456</td>\n      <td>2203.459961</td>\n      <td>0.241609</td>\n    </tr>\n    <tr>\n      <th>3</th>\n      <td>2019-02-07</td>\n      <td>0.755809</td>\n      <td>0.742538</td>\n      <td>0.764596</td>\n      <td>0.756415</td>\n      <td>2203.419922</td>\n      <td>0.215603</td>\n    </tr>\n    <tr>\n      <th>4</th>\n      <td>2019-02-08</td>\n      <td>0.731584</td>\n      <td>0.717777</td>\n      <td>0.739548</td>\n      <td>0.729669</td>\n      <td>2177.050049</td>\n      <td>0.197057</td>\n    </tr>\n  </tbody>\n</table>\n</div>"
     },
     "execution_count": 12,
     "metadata": {},
     "output_type": "execute_result"
    }
   ]
  },
  {
   "cell_type": "code",
   "metadata": {
    "id": "eXkTgV6YyCo9",
    "colab": {
     "base_uri": "https://localhost:8080/"
    },
    "executionInfo": {
     "status": "ok",
     "timestamp": 1637553516409,
     "user_tz": -60,
     "elapsed": 6,
     "user": {
      "displayName": "딥러닝호형",
      "photoUrl": "https://lh3.googleusercontent.com/a-/AOh14GhhDjkGnBZ0JW1k2J6y2lNP9dJeVbQWPuZEpfUc=s64",
      "userId": "11263585794403583722"
     }
    },
    "outputId": "1da2bbc8-aa29-409c-e346-fb4ef41427e7",
    "pycharm": {
     "name": "#%%\n"
    }
   },
   "source": [
    "df.info()"
   ],
   "execution_count": 13,
   "outputs": [
    {
     "name": "stdout",
     "output_type": "stream",
     "text": [
      "<class 'pandas.core.frame.DataFrame'>\n",
      "RangeIndex: 431 entries, 0 to 430\n",
      "Data columns (total 7 columns):\n",
      " #   Column     Non-Null Count  Dtype  \n",
      "---  ------     --------------  -----  \n",
      " 0   Date       431 non-null    object \n",
      " 1   Open       431 non-null    float64\n",
      " 2   High       431 non-null    float64\n",
      " 3   Low        431 non-null    float64\n",
      " 4   Close      431 non-null    float64\n",
      " 5   Adj Close  431 non-null    float64\n",
      " 6   Volume     431 non-null    float64\n",
      "dtypes: float64(6), object(1)\n",
      "memory usage: 23.7+ KB\n"
     ]
    }
   ]
  },
  {
   "cell_type": "code",
   "metadata": {
    "id": "cDD0aOYHyCo-",
    "colab": {
     "base_uri": "https://localhost:8080/"
    },
    "executionInfo": {
     "status": "ok",
     "timestamp": 1637553517102,
     "user_tz": -60,
     "elapsed": 264,
     "user": {
      "displayName": "딥러닝호형",
      "photoUrl": "https://lh3.googleusercontent.com/a-/AOh14GhhDjkGnBZ0JW1k2J6y2lNP9dJeVbQWPuZEpfUc=s64",
      "userId": "11263585794403583722"
     }
    },
    "outputId": "c90a54f1-3327-4e9c-e36b-927283a84001",
    "pycharm": {
     "name": "#%%\n"
    }
   },
   "source": [
    "# CPU/GPU\n",
    "device = torch.device(\"cuda:0\" if torch.cuda.is_available() else \"cpu\")\n",
    "print(f'{device} is available.')"
   ],
   "execution_count": 14,
   "outputs": [
    {
     "name": "stdout",
     "output_type": "stream",
     "text": [
      "cuda:0 is available.\n"
     ]
    }
   ]
  },
  {
   "cell_type": "code",
   "metadata": {
    "id": "sdyNDPAkyCo_",
    "executionInfo": {
     "status": "ok",
     "timestamp": 1637553518766,
     "user_tz": -60,
     "elapsed": 3,
     "user": {
      "displayName": "딥러닝호형",
      "photoUrl": "https://lh3.googleusercontent.com/a-/AOh14GhhDjkGnBZ0JW1k2J6y2lNP9dJeVbQWPuZEpfUc=s64",
      "userId": "11263585794403583722"
     }
    },
    "pycharm": {
     "name": "#%%\n"
    }
   },
   "source": [
    "# Dataset\n",
    "X = df[['Open','High','Low','Volume']].values\n",
    "y = df['Close'].values"
   ],
   "execution_count": 15,
   "outputs": []
  },
  {
   "cell_type": "code",
   "metadata": {
    "id": "JRXgzuMcyCpA",
    "executionInfo": {
     "status": "ok",
     "timestamp": 1637553519073,
     "user_tz": -60,
     "elapsed": 3,
     "user": {
      "displayName": "딥러닝호형",
      "photoUrl": "https://lh3.googleusercontent.com/a-/AOh14GhhDjkGnBZ0JW1k2J6y2lNP9dJeVbQWPuZEpfUc=s64",
      "userId": "11263585794403583722"
     }
    },
    "pycharm": {
     "name": "#%%\n"
    }
   },
   "source": [
    "def seq_data(x, y, sequence_length):\n",
    "    \n",
    "    x_seq = []\n",
    "    y_seq = []\n",
    "    for i in range(len(x)-sequence_length):\n",
    "        x_seq.append(x[i:i+sequence_length]) # a[2:6] -> 2,3,4,5\n",
    "        y_seq.append(y[i+sequence_length])\n",
    "    \n",
    "    return torch.FloatTensor(x_seq).to(device), torch.FloatTensor(y_seq).to(device).view(-1, 1) "
   ],
   "execution_count": 16,
   "outputs": []
  },
  {
   "cell_type": "code",
   "metadata": {
    "id": "QK-3CHROyCpA",
    "colab": {
     "base_uri": "https://localhost:8080/"
    },
    "executionInfo": {
     "status": "ok",
     "timestamp": 1637553534261,
     "user_tz": -60,
     "elapsed": 14838,
     "user": {
      "displayName": "딥러닝호형",
      "photoUrl": "https://lh3.googleusercontent.com/a-/AOh14GhhDjkGnBZ0JW1k2J6y2lNP9dJeVbQWPuZEpfUc=s64",
      "userId": "11263585794403583722"
     }
    },
    "outputId": "88e51526-eae3-4993-d8e4-9d60bf31851f",
    "pycharm": {
     "name": "#%%\n"
    }
   },
   "source": [
    "split = 200\n",
    "sequence_length = 5\n",
    "\n",
    "x_seq, y_seq = seq_data(X, y, sequence_length)\n",
    "x_train_seq = x_seq[:split]\n",
    "y_train_seq = y_seq[:split]\n",
    "x_test_seq = x_seq[split:]\n",
    "y_test_seq = y_seq[split:]\n",
    "print(x_train_seq.size(), y_train_seq.size())\n",
    "print(x_test_seq.size(), y_test_seq.size())"
   ],
   "execution_count": 17,
   "outputs": [
    {
     "name": "stdout",
     "output_type": "stream",
     "text": [
      "torch.Size([200, 5, 4]) torch.Size([200, 1])\n",
      "torch.Size([226, 5, 4]) torch.Size([226, 1])\n"
     ]
    }
   ]
  },
  {
   "cell_type": "code",
   "metadata": {
    "id": "MkcHj_r9yCpB",
    "executionInfo": {
     "status": "ok",
     "timestamp": 1637553534262,
     "user_tz": -60,
     "elapsed": 11,
     "user": {
      "displayName": "딥러닝호형",
      "photoUrl": "https://lh3.googleusercontent.com/a-/AOh14GhhDjkGnBZ0JW1k2J6y2lNP9dJeVbQWPuZEpfUc=s64",
      "userId": "11263585794403583722"
     }
    },
    "pycharm": {
     "name": "#%%\n"
    }
   },
   "source": [
    "train = torch.utils.data.TensorDataset(x_train_seq, y_train_seq)\n",
    "test = torch.utils.data.TensorDataset(x_test_seq, y_test_seq)\n",
    "\n",
    "batch_size = 20\n",
    "train_loader = torch.utils.data.DataLoader(dataset=train, batch_size=batch_size, shuffle=True)\n",
    "test_loader = torch.utils.data.DataLoader(dataset=test, batch_size=batch_size, shuffle=False)"
   ],
   "execution_count": 18,
   "outputs": []
  },
  {
   "cell_type": "code",
   "metadata": {
    "id": "k8yzJTX-yCpC",
    "executionInfo": {
     "status": "ok",
     "timestamp": 1637553534263,
     "user_tz": -60,
     "elapsed": 9,
     "user": {
      "displayName": "딥러닝호형",
      "photoUrl": "https://lh3.googleusercontent.com/a-/AOh14GhhDjkGnBZ0JW1k2J6y2lNP9dJeVbQWPuZEpfUc=s64",
      "userId": "11263585794403583722"
     }
    },
    "pycharm": {
     "name": "#%%\n"
    }
   },
   "source": [
    "# RNN\n",
    "input_size = x_seq.size(2)\n",
    "num_layers = 2\n",
    "hidden_size = 8"
   ],
   "execution_count": 19,
   "outputs": []
  },
  {
   "cell_type": "code",
   "metadata": {
    "id": "RYNT-xYDyCpC",
    "executionInfo": {
     "status": "ok",
     "timestamp": 1637553534263,
     "user_tz": -60,
     "elapsed": 8,
     "user": {
      "displayName": "딥러닝호형",
      "photoUrl": "https://lh3.googleusercontent.com/a-/AOh14GhhDjkGnBZ0JW1k2J6y2lNP9dJeVbQWPuZEpfUc=s64",
      "userId": "11263585794403583722"
     }
    },
    "pycharm": {
     "name": "#%%\n"
    }
   },
   "source": [
    "class VanillaRNN(nn.Module):\n",
    "    \n",
    "    def __init__(self, input_size, hidden_size, sequence_length, num_layers, device):\n",
    "        super(VanillaRNN, self).__init__()\n",
    "        self.device =device\n",
    "        self.hidden_size = hidden_size\n",
    "        self.num_layers = num_layers\n",
    "        self.rnn = nn.RNN(input_size, hidden_size, num_layers, batch_first=True)\n",
    "        self.fc = nn.Sequential(nn.Linear(hidden_size*sequence_length, 1), nn.Sigmoid())\n",
    "        \n",
    "    def forward(self, x):\n",
    "        h0 = torch.zeros(self.num_layers, x.size()[0], self.hidden_size).to(self.device) # 초기 hidden state 설정\n",
    "        out, _ = self.rnn(x, h0) # out: RNN의 마지막 레이어로 부터 나온 output feature 반환, hn: hidden state 반환\n",
    "        out = out.reshape(out.shape[0], -1) # many to many 전략\n",
    "        out = self.fc(out)\n",
    "        return out"
   ],
   "execution_count": 20,
   "outputs": []
  },
  {
   "cell_type": "code",
   "metadata": {
    "id": "QEs9nK2kyCpD",
    "executionInfo": {
     "status": "ok",
     "timestamp": 1637553534264,
     "user_tz": -60,
     "elapsed": 8,
     "user": {
      "displayName": "딥러닝호형",
      "photoUrl": "https://lh3.googleusercontent.com/a-/AOh14GhhDjkGnBZ0JW1k2J6y2lNP9dJeVbQWPuZEpfUc=s64",
      "userId": "11263585794403583722"
     }
    },
    "pycharm": {
     "name": "#%%\n"
    }
   },
   "source": [
    "model = VanillaRNN(input_size=input_size, \n",
    "                   hidden_size=hidden_size, \n",
    "                   sequence_length=sequence_length, \n",
    "                   num_layers=num_layers, \n",
    "                   device=device).to(device)"
   ],
   "execution_count": 21,
   "outputs": []
  },
  {
   "cell_type": "code",
   "metadata": {
    "id": "qkQULMR6yCpE",
    "executionInfo": {
     "status": "ok",
     "timestamp": 1637553534592,
     "user_tz": -60,
     "elapsed": 5,
     "user": {
      "displayName": "딥러닝호형",
      "photoUrl": "https://lh3.googleusercontent.com/a-/AOh14GhhDjkGnBZ0JW1k2J6y2lNP9dJeVbQWPuZEpfUc=s64",
      "userId": "11263585794403583722"
     }
    },
    "pycharm": {
     "name": "#%%\n"
    }
   },
   "source": [
    "criterion = nn.MSELoss()\n",
    "num_epochs = 301\n",
    "optimizer = optim.Adam(model.parameters(), lr=1e-3)"
   ],
   "execution_count": 22,
   "outputs": []
  },
  {
   "cell_type": "code",
   "metadata": {
    "id": "lM17zpVHyCpF",
    "colab": {
     "base_uri": "https://localhost:8080/"
    },
    "executionInfo": {
     "status": "ok",
     "timestamp": 1637553546017,
     "user_tz": -60,
     "elapsed": 11429,
     "user": {
      "displayName": "딥러닝호형",
      "photoUrl": "https://lh3.googleusercontent.com/a-/AOh14GhhDjkGnBZ0JW1k2J6y2lNP9dJeVbQWPuZEpfUc=s64",
      "userId": "11263585794403583722"
     }
    },
    "outputId": "5d75f058-dca4-4274-f250-ecb3f759edd4",
    "pycharm": {
     "name": "#%%\n"
    }
   },
   "source": [
    "loss_graph = []\n",
    "n = len(train_loader)\n",
    "\n",
    "for epoch in range(num_epochs):\n",
    "    running_loss = 0.0\n",
    "    \n",
    "    for data in train_loader:\n",
    "        \n",
    "        seq, target = data # 배치 데이터 \n",
    "        out = model(seq)\n",
    "        loss = criterion(out, target)\n",
    "        \n",
    "        optimizer.zero_grad()\n",
    "        loss.backward()\n",
    "        optimizer.step()\n",
    "        running_loss += loss.item()\n",
    "    \n",
    "    loss_graph.append(running_loss/n)\n",
    "    if epoch % 100 == 0:\n",
    "        print('[epoch: %d] loss: %.4f' %(epoch, running_loss/n))"
   ],
   "execution_count": 23,
   "outputs": [
    {
     "name": "stdout",
     "output_type": "stream",
     "text": [
      "[epoch: 0] loss: 0.0290\n",
      "[epoch: 100] loss: 0.0009\n",
      "[epoch: 200] loss: 0.0006\n",
      "[epoch: 300] loss: 0.0005\n"
     ]
    }
   ]
  },
  {
   "cell_type": "code",
   "metadata": {
    "id": "OPHUw0O-yCpF",
    "colab": {
     "base_uri": "https://localhost:8080/",
     "height": 590
    },
    "executionInfo": {
     "status": "ok",
     "timestamp": 1637553546405,
     "user_tz": -60,
     "elapsed": 392,
     "user": {
      "displayName": "딥러닝호형",
      "photoUrl": "https://lh3.googleusercontent.com/a-/AOh14GhhDjkGnBZ0JW1k2J6y2lNP9dJeVbQWPuZEpfUc=s64",
      "userId": "11263585794403583722"
     }
    },
    "outputId": "3510baa6-4f97-49be-8738-62cde3143084",
    "pycharm": {
     "name": "#%%\n"
    }
   },
   "source": [
    "plt.figure(figsize=(20,10))\n",
    "plt.plot(loss_graph)\n",
    "plt.show() "
   ],
   "execution_count": 24,
   "outputs": [
    {
     "data": {
      "text/plain": "<Figure size 1440x720 with 1 Axes>",
      "image/png": "[encoded data removed]"
     },
     "metadata": {
      "needs_background": "light"
     },
     "output_type": "display_data"
    }
   ]
  },
  {
   "cell_type": "code",
   "metadata": {
    "id": "-7CIu2I10F3r",
    "colab": {
     "base_uri": "https://localhost:8080/",
     "height": 592
    },
    "executionInfo": {
     "status": "ok",
     "timestamp": 1637553557537,
     "user_tz": -60,
     "elapsed": 879,
     "user": {
      "displayName": "딥러닝호형",
      "photoUrl": "https://lh3.googleusercontent.com/a-/AOh14GhhDjkGnBZ0JW1k2J6y2lNP9dJeVbQWPuZEpfUc=s64",
      "userId": "11263585794403583722"
     }
    },
    "outputId": "63e92072-6f53-4c86-8335-b9eaa3a07061",
    "pycharm": {
     "name": "#%%\n"
    }
   },
   "source": [
    "concatdata = torch.utils.data.ConcatDataset([train, test])\n",
    "data_loader = torch.utils.data.DataLoader(dataset=concatdata, batch_size=100, shuffle=False)\n",
    "\n",
    "with torch.no_grad():\n",
    "    pred = []\n",
    "    model.eval()\n",
    "    for data in data_loader:\n",
    "        seq, target = data\n",
    "        out = model(seq)\n",
    "        pred += out.cpu().tolist()\n",
    "\n",
    "plt.figure(figsize=(20,10))\n",
    "plt.plot(np.ones(100)*len(train),np.linspace(0,1,100),'--', linewidth=0.6)\n",
    "plt.plot(df['Close'][sequence_length:].values,'--')\n",
    "plt.plot(pred,'b', linewidth=0.6)\n",
    "plt.legend(['train boundary','actual','prediction'])\n",
    "plt.show() "
   ],
   "execution_count": 25,
   "outputs": [
    {
     "data": {
      "text/plain": "<Figure size 1440x720 with 1 Axes>",
      "image/png": "[encoded data removed]"
     },
     "metadata": {
      "needs_background": "light"
     },
     "output_type": "display_data"
    }
   ]
  },
  {
   "cell_type": "code",
   "metadata": {
    "id": "vDi9uoXP0F3r",
    "pycharm": {
     "name": "#%%\n"
    }
   },
   "source": [],
   "execution_count": 25,
   "outputs": []
  }
 ]
}